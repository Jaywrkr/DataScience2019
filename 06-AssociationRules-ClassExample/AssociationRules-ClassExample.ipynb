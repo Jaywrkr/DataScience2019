{
 "cells": [
  {
   "cell_type": "markdown",
   "metadata": {},
   "source": [
    "# Association Rules of Imputed Features\n",
    "We analyse the flags that indicate whether the corresponding values are imputed (1 if imputed, 0 if not)\n",
    "\n",
    "First, we load the library for association rule mining.\n",
    "\n",
    "https://stackoverflow.com/questions/17313450/how-to-convert-data-frame-to-transactions-for-arules"
   ]
  },
  {
   "cell_type": "code",
   "execution_count": 1,
   "metadata": {},
   "outputs": [
    {
     "ename": "NameError",
     "evalue": "name 'library' is not defined",
     "output_type": "error",
     "traceback": [
      "\u001b[0;31m---------------------------------------------------------------------------\u001b[0m",
      "\u001b[0;31mNameError\u001b[0m                                 Traceback (most recent call last)",
      "\u001b[0;32m<ipython-input-1-3bd8d62430d7>\u001b[0m in \u001b[0;36m<module>\u001b[0;34m()\u001b[0m\n\u001b[0;32m----> 1\u001b[0;31m \u001b[0mlibrary\u001b[0m\u001b[0;34m(\u001b[0m\u001b[0marules\u001b[0m\u001b[0;34m)\u001b[0m\u001b[0;34m\u001b[0m\u001b[0m\n\u001b[0m",
      "\u001b[0;31mNameError\u001b[0m: name 'library' is not defined"
     ]
    }
   ],
   "source": [
    "library(arules)"
   ]
  },
  {
   "cell_type": "markdown",
   "metadata": {},
   "source": [
    "We load the data we prepared by saving only the columns of the imputation flags."
   ]
  },
  {
   "cell_type": "code",
   "execution_count": 5,
   "metadata": {},
   "outputs": [
    {
     "name": "stderr",
     "output_type": "stream",
     "text": [
      "Warning message in readLines(file, encoding = encoding):\n",
      "“incomplete final line found on 'ClassExample.txt'”"
     ]
    },
    {
     "name": "stdout",
     "output_type": "stream",
     "text": [
      "    items                            \n",
      "[1] {Bread,Fruit,Jam,Milk,Peanuts}   \n",
      "[2] {Bread,Chips,Fruit,Jam,Milk,Soda}\n",
      "[3] {Bread,Chips,Jam,Soda,Steak}     \n",
      "[4] {Fruit,Jam,Milk,Peanuts,Soda}    \n",
      "[5] {Bread,Chips,Jam,Milk,Soda}      \n",
      "[6] {Chips,Fruit,Milk,Soda}          \n",
      "[7] {Fruit,Milk,Peanuts,Soda}        \n",
      "[8] {Cheese,Fruit,Peanuts,Yogurt}    \n"
     ]
    }
   ],
   "source": [
    "trans = read.transactions(\"ClassExample.txt\", sep=\",\", format=\"basket\")\n",
    "inspect(trans)"
   ]
  },
  {
   "cell_type": "markdown",
   "metadata": {},
   "source": [
    "Let's derive some frequent item sets, let's put minimum supporto to 0.2 and at least two items."
   ]
  },
  {
   "cell_type": "code",
   "execution_count": 6,
   "metadata": {},
   "outputs": [
    {
     "name": "stdout",
     "output_type": "stream",
     "text": [
      "Apriori\n",
      "\n",
      "Parameter specification:\n",
      " confidence minval smax arem  aval originalSupport maxtime support minlen\n",
      "         NA    0.1    1 none FALSE            TRUE       5     0.5      1\n",
      " maxlen            target   ext\n",
      "     10 frequent itemsets FALSE\n",
      "\n",
      "Algorithmic control:\n",
      " filter tree heap memopt load sort verbose\n",
      "    0.1 TRUE TRUE  FALSE TRUE    2    TRUE\n",
      "\n",
      "Absolute minimum support count: 4 \n",
      "\n",
      "set item appearances ...[0 item(s)] done [0.00s].\n",
      "set transactions ...[10 item(s), 8 transaction(s)] done [0.00s].\n",
      "sorting and recoding items ... [7 item(s)] done [0.00s].\n",
      "creating transaction tree ... done [0.00s].\n",
      "checking subsets of size 1 2 3 done [0.00s].\n",
      "writing ... [16 set(s)] done [0.00s].\n",
      "creating S4 object  ... done [0.00s].\n"
     ]
    }
   ],
   "source": [
    "fi <- apriori(trans, parameter = list(support=4/8, minlen=1, target=\"frequent\"))"
   ]
  },
  {
   "cell_type": "code",
   "execution_count": 7,
   "metadata": {},
   "outputs": [
    {
     "name": "stdout",
     "output_type": "stream",
     "text": [
      "     items             support count\n",
      "[1]  {Peanuts}         0.500   4    \n",
      "[2]  {Chips}           0.500   4    \n",
      "[3]  {Bread}           0.500   4    \n",
      "[4]  {Jam}             0.625   5    \n",
      "[5]  {Fruit}           0.750   6    \n",
      "[6]  {Milk}            0.750   6    \n",
      "[7]  {Soda}            0.750   6    \n",
      "[8]  {Fruit,Peanuts}   0.500   4    \n",
      "[9]  {Chips,Soda}      0.500   4    \n",
      "[10] {Bread,Jam}       0.500   4    \n",
      "[11] {Jam,Milk}        0.500   4    \n",
      "[12] {Jam,Soda}        0.500   4    \n",
      "[13] {Fruit,Milk}      0.625   5    \n",
      "[14] {Fruit,Soda}      0.500   4    \n",
      "[15] {Milk,Soda}       0.625   5    \n",
      "[16] {Fruit,Milk,Soda} 0.500   4    \n"
     ]
    }
   ],
   "source": [
    "inspect(fi)"
   ]
  },
  {
   "cell_type": "code",
   "execution_count": 8,
   "metadata": {},
   "outputs": [
    {
     "name": "stdout",
     "output_type": "stream",
     "text": [
      "Apriori\n",
      "\n",
      "Parameter specification:\n",
      " confidence minval smax arem  aval originalSupport maxtime support minlen\n",
      "        0.5    0.1    1 none FALSE            TRUE       5     0.5      1\n",
      " maxlen target   ext\n",
      "     10  rules FALSE\n",
      "\n",
      "Algorithmic control:\n",
      " filter tree heap memopt load sort verbose\n",
      "    0.1 TRUE TRUE  FALSE TRUE    2    TRUE\n",
      "\n",
      "Absolute minimum support count: 4 \n",
      "\n",
      "set item appearances ...[0 item(s)] done [0.00s].\n",
      "set transactions ...[10 item(s), 8 transaction(s)] done [0.00s].\n",
      "sorting and recoding items ... [7 item(s)] done [0.00s].\n",
      "creating transaction tree ... done [0.00s].\n",
      "checking subsets of size 1 2 3 done [0.00s].\n",
      "writing ... [26 rule(s)] done [0.00s].\n",
      "creating S4 object  ... done [0.00s].\n"
     ]
    }
   ],
   "source": [
    "ar <- apriori(trans, parameter = list(support=4/8, confidence=.5, target=\"rules\"))"
   ]
  },
  {
   "cell_type": "code",
   "execution_count": 9,
   "metadata": {},
   "outputs": [
    {
     "name": "stdout",
     "output_type": "stream",
     "text": [
      "     lhs             rhs       support confidence lift      count\n",
      "[1]  {}           => {Peanuts} 0.500   0.5000000  1.0000000 4    \n",
      "[2]  {}           => {Chips}   0.500   0.5000000  1.0000000 4    \n",
      "[3]  {}           => {Bread}   0.500   0.5000000  1.0000000 4    \n",
      "[4]  {}           => {Jam}     0.625   0.6250000  1.0000000 5    \n",
      "[5]  {}           => {Fruit}   0.750   0.7500000  1.0000000 6    \n",
      "[6]  {}           => {Milk}    0.750   0.7500000  1.0000000 6    \n",
      "[7]  {}           => {Soda}    0.750   0.7500000  1.0000000 6    \n",
      "[8]  {Peanuts}    => {Fruit}   0.500   1.0000000  1.3333333 4    \n",
      "[9]  {Fruit}      => {Peanuts} 0.500   0.6666667  1.3333333 4    \n",
      "[10] {Chips}      => {Soda}    0.500   1.0000000  1.3333333 4    \n",
      "[11] {Soda}       => {Chips}   0.500   0.6666667  1.3333333 4    \n",
      "[12] {Bread}      => {Jam}     0.500   1.0000000  1.6000000 4    \n",
      "[13] {Jam}        => {Bread}   0.500   0.8000000  1.6000000 4    \n",
      "[14] {Jam}        => {Milk}    0.500   0.8000000  1.0666667 4    \n",
      "[15] {Milk}       => {Jam}     0.500   0.6666667  1.0666667 4    \n",
      "[16] {Jam}        => {Soda}    0.500   0.8000000  1.0666667 4    \n",
      "[17] {Soda}       => {Jam}     0.500   0.6666667  1.0666667 4    \n",
      "[18] {Fruit}      => {Milk}    0.625   0.8333333  1.1111111 5    \n",
      "[19] {Milk}       => {Fruit}   0.625   0.8333333  1.1111111 5    \n",
      "[20] {Fruit}      => {Soda}    0.500   0.6666667  0.8888889 4    \n",
      "[21] {Soda}       => {Fruit}   0.500   0.6666667  0.8888889 4    \n",
      "[22] {Milk}       => {Soda}    0.625   0.8333333  1.1111111 5    \n",
      "[23] {Soda}       => {Milk}    0.625   0.8333333  1.1111111 5    \n",
      "[24] {Fruit,Milk} => {Soda}    0.500   0.8000000  1.0666667 4    \n",
      "[25] {Fruit,Soda} => {Milk}    0.500   1.0000000  1.3333333 4    \n",
      "[26] {Milk,Soda}  => {Fruit}   0.500   0.8000000  1.0666667 4    \n"
     ]
    }
   ],
   "source": [
    "inspect(ar)"
   ]
  }
 ],
 "metadata": {
  "kernelspec": {
   "display_name": "Python 3",
   "language": "python",
   "name": "python3"
  },
  "language_info": {
   "codemirror_mode": {
    "name": "ipython",
    "version": 3
   },
   "file_extension": ".py",
   "mimetype": "text/x-python",
   "name": "python",
   "nbconvert_exporter": "python",
   "pygments_lexer": "ipython3",
   "version": "3.6.4"
  }
 },
 "nbformat": 4,
 "nbformat_minor": 2
}
