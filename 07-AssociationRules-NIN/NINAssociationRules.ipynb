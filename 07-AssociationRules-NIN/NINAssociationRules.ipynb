{
 "cells": [
  {
   "cell_type": "markdown",
   "metadata": {},
   "source": [
    "# Association Rules from Nine Inch Nails Setlists\n",
    "We extract association rules for the songs that Nine Inch Nails played inside the same setlist\n",
    "\n",
    "First, we load the library for association rule mining.\n",
    "\n",
    "https://stackoverflow.com/questions/17313450/how-to-convert-data-frame-to-transactions-for-arules"
   ]
  },
  {
   "cell_type": "code",
   "execution_count": 43,
   "metadata": {},
   "outputs": [],
   "source": [
    "library(arules)\n",
    "\n",
    "# beware we turned off warnings (do this only when you have checked everythin)\n",
    "# options(warn=0) will turn them on again\n",
    "options(warn=-1)"
   ]
  },
  {
   "cell_type": "markdown",
   "metadata": {},
   "source": [
    "Next we load the setlists we downloaded from setlist.fm"
   ]
  },
  {
   "cell_type": "code",
   "execution_count": 44,
   "metadata": {},
   "outputs": [
    {
     "name": "stdout",
     "output_type": "stream",
     "text": [
      "    items                        \n",
      "[1] {1,000,000,                  \n",
      "     Came Back Haunted,          \n",
      "     Closer,                     \n",
      "     Copy of A,                  \n",
      "     Disappointed,               \n",
      "     Eraser,                     \n",
      "     Find My Way,                \n",
      "     Gave Up,                    \n",
      "     Head Like a Hole,           \n",
      "     March of the Pigs,          \n",
      "     Piggy,                      \n",
      "     Sanctified,                 \n",
      "     Terrible Lie,               \n",
      "     The Great Destroyer,        \n",
      "     The Hand That Feeds,        \n",
      "     Wish}                       \n",
      "[2] {1,000,000,                  \n",
      "     Came Back Haunted,          \n",
      "     Closer,                     \n",
      "     Copy of A,                  \n",
      "     Disappointed,               \n",
      "     Eraser,                     \n",
      "     Find My Way,                \n",
      "     Gave Up,                    \n",
      "     Head Like a Hole,           \n",
      "     March of the Pigs,          \n",
      "     Reptile,                    \n",
      "     Sanctified,                 \n",
      "     Terrible Lie,               \n",
      "     The Great Destroyer,        \n",
      "     The Hand That Feeds,        \n",
      "     Wish}                       \n",
      "[3] {1,000,000,                  \n",
      "     Came Back Haunted,          \n",
      "     Closer,                     \n",
      "     Copy of A,                  \n",
      "     Disappointed,               \n",
      "     Eraser,                     \n",
      "     Find My Way,                \n",
      "     Gave Up,                    \n",
      "     Head Like a Hole,           \n",
      "     Hurt,                       \n",
      "     March of the Pigs,          \n",
      "     Sanctified,                 \n",
      "     The Day the World Went Away,\n",
      "     The Frail,                  \n",
      "     The Great Destroyer,        \n",
      "     The Hand That Feeds,        \n",
      "     The Wretched,               \n",
      "     Wish}                       \n",
      "[4] {1,000,000,                  \n",
      "     Came Back Haunted,          \n",
      "     Closer,                     \n",
      "     Copy of A,                  \n",
      "     Disappointed,               \n",
      "     Eraser,                     \n",
      "     Find My Way,                \n",
      "     Gave Up,                    \n",
      "     Head Like a Hole,           \n",
      "     March of the Pigs,          \n",
      "     Piggy,                      \n",
      "     Sanctified,                 \n",
      "     Terrible Lie,               \n",
      "     The Great Destroyer,        \n",
      "     The Hand That Feeds,        \n",
      "     Wish}                       \n",
      "[5] {1,000,000,                  \n",
      "     Came Back Haunted,          \n",
      "     Closer,                     \n",
      "     Copy of A,                  \n",
      "     Disappointed,               \n",
      "     Eraser,                     \n",
      "     Find My Way,                \n",
      "     Gave Up,                    \n",
      "     Head Like a Hole,           \n",
      "     March of the Pigs,          \n",
      "     Piggy,                      \n",
      "     Sanctified,                 \n",
      "     Terrible Lie,               \n",
      "     The Great Destroyer,        \n",
      "     The Hand That Feeds,        \n",
      "     Wish}                       \n",
      "[6] {1,000,000,                  \n",
      "     Came Back Haunted,          \n",
      "     Closer,                     \n",
      "     Copy of A,                  \n",
      "     Disappointed,               \n",
      "     Eraser,                     \n",
      "     Find My Way,                \n",
      "     Gave Up,                    \n",
      "     Head Like a Hole,           \n",
      "     March of the Pigs,          \n",
      "     Only,                       \n",
      "     Reptile,                    \n",
      "     Sanctified,                 \n",
      "     The Great Destroyer,        \n",
      "     The Hand That Feeds,        \n",
      "     Wish}                       \n"
     ]
    }
   ],
   "source": [
    "trans = read.transactions(\"NINSetListBasket.txt\", format=\"basket\", sep=\";\")\n",
    "inspect(head(trans))"
   ]
  },
  {
   "cell_type": "markdown",
   "metadata": {},
   "source": [
    "Let's derive some frequent item sets, let's put minimum supporto to 0.6 and at least two items."
   ]
  },
  {
   "cell_type": "code",
   "execution_count": 45,
   "metadata": {},
   "outputs": [
    {
     "name": "stdout",
     "output_type": "stream",
     "text": [
      "Apriori\n",
      "\n",
      "Parameter specification:\n",
      " confidence minval smax arem  aval originalSupport maxtime support minlen\n",
      "         NA    0.1    1 none FALSE            TRUE       5     0.5      2\n",
      " maxlen            target   ext\n",
      "     10 frequent itemsets FALSE\n",
      "\n",
      "Algorithmic control:\n",
      " filter tree heap memopt load sort verbose\n",
      "    0.1 TRUE TRUE  FALSE TRUE    2    TRUE\n",
      "\n",
      "Absolute minimum support count: 471 \n",
      "\n",
      "set item appearances ...[0 item(s)] done [0.00s].\n",
      "set transactions ...[311 item(s), 943 transaction(s)] done [0.00s].\n",
      "sorting and recoding items ... [7 item(s)] done [0.00s].\n",
      "creating transaction tree ... done [0.00s].\n",
      "checking subsets of size 1 2 3 4 done [0.00s].\n",
      "writing ... [23 set(s)] done [0.00s].\n",
      "creating S4 object  ... done [0.00s].\n"
     ]
    }
   ],
   "source": [
    "fi <- apriori(trans, parameter = list(support=0.5, minlen=2, target=\"frequent\"))"
   ]
  },
  {
   "cell_type": "markdown",
   "metadata": {},
   "source": [
    "How many frequent itemsets did we find"
   ]
  },
  {
   "cell_type": "code",
   "execution_count": 46,
   "metadata": {},
   "outputs": [
    {
     "data": {
      "text/html": [
       "23"
      ],
      "text/latex": [
       "23"
      ],
      "text/markdown": [
       "23"
      ],
      "text/plain": [
       "[1] 23"
      ]
     },
     "metadata": {},
     "output_type": "display_data"
    }
   ],
   "source": [
    "length(fi)"
   ]
  },
  {
   "cell_type": "markdown",
   "metadata": {},
   "source": [
    "Let's check the top 10 by support."
   ]
  },
  {
   "cell_type": "code",
   "execution_count": 47,
   "metadata": {},
   "outputs": [
    {
     "name": "stdout",
     "output_type": "stream",
     "text": [
      "     items                                        support   count\n",
      "[1]  {Head Like a Hole,March of the Pigs}         0.7126193 672  \n",
      "[2]  {Gave Up,Head Like a Hole}                   0.6415695 605  \n",
      "[3]  {Gave Up,March of the Pigs}                  0.6373277 601  \n",
      "[4]  {Gave Up,Head Like a Hole,March of the Pigs} 0.6044539 570  \n",
      "[5]  {Closer,March of the Pigs}                   0.6033934 569  \n",
      "[6]  {Closer,Head Like a Hole}                    0.6033934 569  \n",
      "[7]  {Head Like a Hole,Terrible Lie}              0.6023330 568  \n",
      "[8]  {Closer,Head Like a Hole,March of the Pigs}  0.5938494 560  \n",
      "[9]  {Head Like a Hole,Hurt}                      0.5885472 555  \n",
      "[10] {Head Like a Hole,Wish}                      0.5715801 539  \n"
     ]
    }
   ],
   "source": [
    "inspect(head(sort(fi,by = \"support\"),10))"
   ]
  },
  {
   "cell_type": "markdown",
   "metadata": {},
   "source": [
    "Now let's go for some rules and check how many we find."
   ]
  },
  {
   "cell_type": "code",
   "execution_count": 48,
   "metadata": {},
   "outputs": [
    {
     "name": "stdout",
     "output_type": "stream",
     "text": [
      "Apriori\n",
      "\n",
      "Parameter specification:\n",
      " confidence minval smax arem  aval originalSupport maxtime support minlen\n",
      "        0.7    0.1    1 none FALSE            TRUE       5     0.5      1\n",
      " maxlen target   ext\n",
      "     10  rules FALSE\n",
      "\n",
      "Algorithmic control:\n",
      " filter tree heap memopt load sort verbose\n",
      "    0.1 TRUE TRUE  FALSE TRUE    2    TRUE\n",
      "\n",
      "Absolute minimum support count: 471 \n",
      "\n",
      "set item appearances ...[0 item(s)] done [0.00s].\n",
      "set transactions ...[311 item(s), 943 transaction(s)] done [0.00s].\n",
      "sorting and recoding items ... [7 item(s)] done [0.00s].\n",
      "creating transaction tree ... done [0.00s].\n",
      "checking subsets of size 1 2 3 4 done [0.00s].\n",
      "writing ... [55 rule(s)] done [0.00s].\n",
      "creating S4 object  ... done [0.00s].\n"
     ]
    },
    {
     "data": {
      "text/html": [
       "55"
      ],
      "text/latex": [
       "55"
      ],
      "text/markdown": [
       "55"
      ],
      "text/plain": [
       "[1] 55"
      ]
     },
     "metadata": {},
     "output_type": "display_data"
    }
   ],
   "source": [
    "ar <- apriori(trans, parameter = list(support=0.5, confidence=0.7, target=\"rules\"))\n",
    "length(ar)"
   ]
  },
  {
   "cell_type": "markdown",
   "metadata": {},
   "source": [
    "What are the top rules by confidence?"
   ]
  },
  {
   "cell_type": "code",
   "execution_count": 49,
   "metadata": {},
   "outputs": [
    {
     "name": "stdout",
     "output_type": "stream",
     "text": [
      "    lhs                    rhs                   support confidence     lift count\n",
      "[1] {Gave Up,                                                                     \n",
      "     Hurt,                                                                        \n",
      "     March of the Pigs} => {Head Like a Hole}  0.5037116  0.9937238 1.058849   475\n",
      "[2] {Hurt,                                                                        \n",
      "     March of the Pigs} => {Head Like a Hole}  0.5524920  0.9923810 1.057418   521\n",
      "[3] {Gave Up,                                                                     \n",
      "     Hurt}              => {Head Like a Hole}  0.5302227  0.9920635 1.057080   500\n",
      "[4] {Closer,                                                                      \n",
      "     Gave Up,                                                                     \n",
      "     Head Like a Hole}  => {March of the Pigs} 0.5291622  0.9861660 1.315353   499\n",
      "[5] {Closer,                                                                      \n",
      "     Gave Up}           => {March of the Pigs} 0.5387063  0.9844961 1.313126   508\n",
      "[6] {Closer,                                                                      \n",
      "     March of the Pigs} => {Head Like a Hole}  0.5938494  0.9841828 1.048683   560\n"
     ]
    }
   ],
   "source": [
    "ar_by_confidence <- sort(ar, by = \"confidence\")\n",
    "inspect(head(ar_by_confidence))"
   ]
  },
  {
   "cell_type": "markdown",
   "metadata": {},
   "source": [
    "Let's relax the constraints and use a lower support and confidence but let's go for the \"surprise\" factor, using lift."
   ]
  },
  {
   "cell_type": "code",
   "execution_count": 50,
   "metadata": {},
   "outputs": [
    {
     "name": "stdout",
     "output_type": "stream",
     "text": [
      "Apriori\n",
      "\n",
      "Parameter specification:\n",
      " confidence minval smax arem  aval originalSupport maxtime support minlen\n",
      "        0.5    0.1    1 none FALSE            TRUE       5     0.3      1\n",
      " maxlen target   ext\n",
      "     10  rules FALSE\n",
      "\n",
      "Algorithmic control:\n",
      " filter tree heap memopt load sort verbose\n",
      "    0.1 TRUE TRUE  FALSE TRUE    2    TRUE\n",
      "\n",
      "Absolute minimum support count: 282 \n",
      "\n",
      "set item appearances ...[0 item(s)] done [0.00s].\n",
      "set transactions ...[311 item(s), 943 transaction(s)] done [0.00s].\n",
      "sorting and recoding items ... [15 item(s)] done [0.00s].\n",
      "creating transaction tree ... done [0.00s].\n",
      "checking subsets of size 1 2 3 4 5 6 done [0.00s].\n",
      "writing ... [478 rule(s)] done [0.00s].\n",
      "creating S4 object  ... done [0.00s].\n"
     ]
    }
   ],
   "source": [
    "ar <- apriori(trans, parameter = list(support=0.3, confidence=0.5, target=\"rules\"))\n",
    "ar_by_lift <- sort(ar, by = \"lift\")"
   ]
  },
  {
   "cell_type": "code",
   "execution_count": 51,
   "metadata": {},
   "outputs": [
    {
     "name": "stdout",
     "output_type": "stream",
     "text": [
      "     lhs                    rhs                     support confidence     lift count\n",
      "[1]  {Gave Up,                                                                       \n",
      "      Head Like a Hole,                                                              \n",
      "      Wish}              => {The Hand That Feeds} 0.3170732  0.6704036 1.832436   299\n",
      "[2]  {Gave Up,                                                                       \n",
      "      Head Like a Hole,                                                              \n",
      "      March of the Pigs,                                                             \n",
      "      Wish}              => {The Hand That Feeds} 0.3096501  0.6651481 1.818071   292\n",
      "[3]  {Gave Up,                                                                       \n",
      "      Wish}              => {The Hand That Feeds} 0.3191941  0.6323529 1.728431   301\n",
      "[4]  {Gave Up,                                                                       \n",
      "      March of the Pigs,                                                             \n",
      "      Wish}              => {The Hand That Feeds} 0.3117709  0.6268657 1.713433   294\n",
      "[5]  {Down in It,                                                                    \n",
      "      Head Like a Hole}  => {Sin}                 0.3266172  0.7938144 1.689768   308\n",
      "[6]  {Head Like a Hole,                                                              \n",
      "      March of the Pigs,                                                             \n",
      "      Wish}              => {The Hand That Feeds} 0.3181336  0.6024096 1.646586   300\n",
      "[7]  {Closer,                                                                        \n",
      "      Terrible Lie}      => {Wish}                0.3732768  0.9971671 1.643931   352\n",
      "[8]  {Closer,                                                                        \n",
      "      March of the Pigs,                                                             \n",
      "      Terrible Lie}      => {Wish}                0.3679745  0.9971264 1.643864   347\n",
      "[9]  {Closer,                                                                        \n",
      "      Head Like a Hole,                                                              \n",
      "      Terrible Lie}      => {Wish}                0.3637328  0.9970930 1.643809   343\n",
      "[10] {Closer,                                                                        \n",
      "      Head Like a Hole,                                                              \n",
      "      March of the Pigs,                                                             \n",
      "      Terrible Lie}      => {Wish}                0.3584305  0.9970501 1.643738   338\n"
     ]
    }
   ],
   "source": [
    "inspect(head(ar_by_lift,10))"
   ]
  }
 ],
 "metadata": {
  "kernelspec": {
   "display_name": "Python 3",
   "language": "python",
   "name": "python3"
  },
  "language_info": {
   "codemirror_mode": {
    "name": "ipython",
    "version": 3
   },
   "file_extension": ".py",
   "mimetype": "text/x-python",
   "name": "python",
   "nbconvert_exporter": "python",
   "pygments_lexer": "ipython3",
   "version": "3.6.4"
  }
 },
 "nbformat": 4,
 "nbformat_minor": 2
}
