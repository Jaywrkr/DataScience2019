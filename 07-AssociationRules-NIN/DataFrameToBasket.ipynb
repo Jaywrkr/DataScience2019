{
 "cells": [
  {
   "cell_type": "markdown",
   "metadata": {},
   "source": [
    "# Data Exploration - Chronic Kidney Disease\n",
    "We perform the exploration of the Chronic Kidney Disease dataset we preprocessed for missing values before.\n"
   ]
  },
  {
   "cell_type": "code",
   "execution_count": 2,
   "metadata": {},
   "outputs": [],
   "source": [
    "# dataframe management\n",
    "import pandas as pd             \n",
    "\n",
    "# numerical computation\n",
    "import numpy as np"
   ]
  },
  {
   "cell_type": "markdown",
   "metadata": {},
   "source": [
    "Let's load the Iris dataset"
   ]
  },
  {
   "cell_type": "code",
   "execution_count": 3,
   "metadata": {},
   "outputs": [],
   "source": [
    "df = pd.read_csv('nin_setlists.csv')"
   ]
  },
  {
   "cell_type": "code",
   "execution_count": 8,
   "metadata": {},
   "outputs": [
    {
     "data": {
      "text/plain": [
       "Index(['1 Ghosts I', '1,000,000', '10 Ghosts II', '14 Ghosts II',\n",
       "       '17 Ghosts II', '19 Ghosts III', '21 Ghosts III', '25 Ghosts III',\n",
       "       '28 Ghosts IV', '31 Ghosts IV',\n",
       "       ...\n",
       "       'Various Methods of Escape', 'Vessel', 'We Take Mystery (To Bed)',\n",
       "       'We're in This Together', 'What If We Could?', 'While I'm Still Here',\n",
       "       'Wise Up! Sucker', 'Wish', 'With Teeth', 'You Know What You Are?'],\n",
       "      dtype='object', length=152)"
      ]
     },
     "execution_count": 8,
     "metadata": {},
     "output_type": "execute_result"
    }
   ],
   "source": [
    "df.columns"
   ]
  },
  {
   "cell_type": "code",
   "execution_count": 11,
   "metadata": {},
   "outputs": [],
   "source": [
    "transactions = open(\"NINSetListBasket.txt\", \"w\")\n",
    "for r in range(df.shape[0]):\n",
    "    \n",
    "    # get the item set \n",
    "    l = df.columns[df.values[r,:]==1].tolist()\n",
    "\n",
    "    if len(l):\n",
    "        # make it into a basket set\n",
    "        s = str(l[0])\n",
    "        for i in range(1,len(l)):\n",
    "            s = s + \";\" + l[i]\n",
    "        s = s + \"\\n\"\n",
    "        transactions.write(s)\n",
    "    \n",
    "transactions.close()"
   ]
  },
  {
   "cell_type": "code",
   "execution_count": null,
   "metadata": {},
   "outputs": [],
   "source": []
  }
 ],
 "metadata": {
  "kernelspec": {
   "display_name": "Python 3",
   "language": "python",
   "name": "python3"
  },
  "language_info": {
   "codemirror_mode": {
    "name": "ipython",
    "version": 3
   },
   "file_extension": ".py",
   "mimetype": "text/x-python",
   "name": "python",
   "nbconvert_exporter": "python",
   "pygments_lexer": "ipython3",
   "version": "3.6.4"
  }
 },
 "nbformat": 4,
 "nbformat_minor": 2
}
