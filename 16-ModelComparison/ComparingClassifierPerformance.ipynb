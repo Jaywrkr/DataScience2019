{
 "cells": [
  {
   "cell_type": "markdown",
   "metadata": {
    "deletable": true,
    "editable": true
   },
   "source": [
    "# Comparing Classification Performance\n",
    "We are going to several classification algorithms to the loan data used in previous notebook and we will compare the results. \n",
    "\n",
    "As the very first step, we load all the relevant libraries."
   ]
  },
  {
   "cell_type": "code",
   "execution_count": 1,
   "metadata": {
    "collapsed": false,
    "deletable": true,
    "editable": true
   },
   "outputs": [],
   "source": [
    "# general purpose libraries libraries for tools\n",
    "import pandas as pd\n",
    "import numpy as np\n",
    "import matplotlib.pyplot as plt\n",
    "import math\n",
    "\n",
    "# models\n",
    "from sklearn import linear_model\n",
    "from sklearn import naive_bayes\n",
    "from sklearn import neighbors\n",
    "from sklearn.neighbors.nearest_centroid import NearestCentroid\n",
    "from sklearn import tree\n",
    "from sklearn.ensemble import RandomForestClassifier\n",
    "from sklearn.model_selection import StratifiedKFold\n",
    "\n",
    "# stat libraries\n",
    "from scipy import stats\n",
    "\n",
    "# Libraries for the evaluation\n",
    "from sklearn import model_selection\n",
    "from sklearn.metrics import precision_score\n",
    "from sklearn.metrics import recall_score\n",
    "from sklearn.metrics import confusion_matrix\n",
    "from sklearn.metrics import precision_recall_curve\n",
    "from sklearn.metrics import average_precision_score\n",
    "from sklearn.metrics import precision_score\n",
    "from sklearn.metrics import recall_score\n",
    "from sklearn.metrics import accuracy_score\n",
    "from sklearn.metrics import roc_curve\n",
    "from sklearn.metrics import roc_auc_score\n",
    "from sklearn.metrics import f1_score\n",
    "\n",
    "%matplotlib inline"
   ]
  },
  {
   "cell_type": "markdown",
   "metadata": {
    "deletable": true,
    "editable": true
   },
   "source": [
    "Then, we load the data."
   ]
  },
  {
   "cell_type": "code",
   "execution_count": 2,
   "metadata": {
    "collapsed": false,
    "deletable": true,
    "editable": true
   },
   "outputs": [],
   "source": [
    "loans = pd.read_csv('LoansNumerical.csv')"
   ]
  },
  {
   "cell_type": "code",
   "execution_count": 3,
   "metadata": {
    "collapsed": false,
    "deletable": true,
    "editable": true
   },
   "outputs": [],
   "source": [
    "target = 'safe_loans'\n",
    "features = loans.columns[loans.columns!=target]"
   ]
  },
  {
   "cell_type": "markdown",
   "metadata": {
    "deletable": true,
    "editable": true
   },
   "source": [
    "The input variables x are the columns corresponding to the features, the output variable y is the column corresponding to the target variable."
   ]
  },
  {
   "cell_type": "code",
   "execution_count": 4,
   "metadata": {
    "collapsed": true,
    "deletable": true,
    "editable": true
   },
   "outputs": [],
   "source": [
    "X = loans[features]\n",
    "y = loans[target]"
   ]
  },
  {
   "cell_type": "markdown",
   "metadata": {
    "deletable": true,
    "editable": true
   },
   "source": [
    "First we apply plain logistic regression without regularization (thus $\\alpha$ is zero). The Scikit-learn function does not allow to specify $\\alpha$ but it uses a parameter C=1/$\\alpha$. Accordingly, to have no regularization we need to specify a huge value of C. And we evaluate the model using plain crossvalidation."
   ]
  },
  {
   "cell_type": "code",
   "execution_count": 5,
   "metadata": {
    "collapsed": false,
    "deletable": true,
    "editable": true
   },
   "outputs": [],
   "source": [
    "simple_logistic = linear_model.LogisticRegression(C=10e10, random_state=0)\n",
    "simple_eval = model_selection.cross_val_score(simple_logistic, X, y, cv=StratifiedKFold(n_splits=10,random_state=1234,shuffle=True))"
   ]
  },
  {
   "cell_type": "code",
   "execution_count": 6,
   "metadata": {},
   "outputs": [
    {
     "name": "stdout",
     "output_type": "stream",
     "text": [
      "Simple Logistic Regression\t81.2%\t0.1%\n"
     ]
    }
   ],
   "source": [
    "print(\"Simple Logistic Regression\\t%.1f%%\\t%.1f%%\" % (100.0*np.average(simple_eval), 100.0*np.std(simple_eval)))"
   ]
  },
  {
   "cell_type": "markdown",
   "metadata": {
    "deletable": true,
    "editable": true
   },
   "source": [
    "Next we apply naive bayes, nearest centroids, knn, and random forests."
   ]
  },
  {
   "cell_type": "code",
   "execution_count": 7,
   "metadata": {
    "collapsed": false,
    "deletable": true,
    "editable": true
   },
   "outputs": [],
   "source": [
    "nb = naive_bayes.GaussianNB();\n",
    "nb_eval = model_selection.cross_val_score(nb, X, y, cv=StratifiedKFold(n_splits=10,random_state=871263,shuffle=True))"
   ]
  },
  {
   "cell_type": "code",
   "execution_count": 8,
   "metadata": {},
   "outputs": [
    {
     "name": "stdout",
     "output_type": "stream",
     "text": [
      "Naive Bayes\t77.3%\t0.4%\n"
     ]
    }
   ],
   "source": [
    "print(\"Naive Bayes\\t%.1f%%\\t%.1f%%\" % (100.0*np.average(nb_eval), 100.0*np.std(nb_eval)))"
   ]
  },
  {
   "cell_type": "code",
   "execution_count": 9,
   "metadata": {
    "collapsed": false,
    "deletable": true,
    "editable": true
   },
   "outputs": [],
   "source": [
    "knn = neighbors.KNeighborsClassifier(20, weights='distance')\n",
    "knn_eval = model_selection.cross_val_score(knn, X, y, cv=StratifiedKFold(n_splits=10,random_state=19872,shuffle=True))"
   ]
  },
  {
   "cell_type": "code",
   "execution_count": 10,
   "metadata": {},
   "outputs": [
    {
     "name": "stdout",
     "output_type": "stream",
     "text": [
      "k Nearest Neighbor\t80.4%\t0.2%\n"
     ]
    }
   ],
   "source": [
    "print(\"k Nearest Neighbor\\t%.1f%%\\t%.1f%%\" % (100.0*np.average(knn_eval), 100.0*np.std(knn_eval)))"
   ]
  },
  {
   "cell_type": "code",
   "execution_count": 11,
   "metadata": {
    "collapsed": false,
    "deletable": true,
    "editable": true
   },
   "outputs": [],
   "source": [
    "rf = RandomForestClassifier(n_estimators=40, max_depth=None, min_samples_split=2, random_state=0)\n",
    "rf_eval = model_selection.cross_val_score(rf, X, y, cv=StratifiedKFold(n_splits=10,random_state=900234,shuffle=True))"
   ]
  },
  {
   "cell_type": "code",
   "execution_count": 12,
   "metadata": {},
   "outputs": [
    {
     "name": "stdout",
     "output_type": "stream",
     "text": [
      "Random Forest\t81.8%\t0.2%\n"
     ]
    }
   ],
   "source": [
    "print(\"Random Forest\\t%.1f%%\\t%.1f%%\" % (100.0*np.average(rf_eval), 100.0*np.std(rf_eval)))"
   ]
  },
  {
   "cell_type": "markdown",
   "metadata": {
    "deletable": true,
    "editable": true
   },
   "source": [
    "## Comparing Two Models using Unpaired t-test\n",
    "Although all the models have been evaluated have been evaluated with cross-validation, we don't know whether the folds are the same. Thus for instance we don't know if the first element in the evaluation array was measured on the same fold over all the algorithms. Accordingly, we need to apply unpaired t-Test.\n",
    "\n",
    "Let's compare the performance of Logistic Regression vs Random Forests."
   ]
  },
  {
   "cell_type": "code",
   "execution_count": 19,
   "metadata": {
    "collapsed": false
   },
   "outputs": [],
   "source": [
    "def PrintSignificance(stat, c):\n",
    "    if (stat[1]<(1-c)):\n",
    "        print(\"The difference is statistically significant (cf %3.2f p-value=%.4f)\"%(c,stat[1]))\n",
    "    else:\n",
    "        print(\"The difference is not statistically significant (cf %3.2f p-value=%.4f)\"%(c,stat[1]))        "
   ]
  },
  {
   "cell_type": "code",
   "execution_count": 20,
   "metadata": {},
   "outputs": [
    {
     "name": "stdout",
     "output_type": "stream",
     "text": [
      "Logistic Regression vs Random Forests: p-value = 0.000\n",
      "The difference is statistically significant (cf 0.95 p-value=0.0000)\n",
      "\n",
      "\n",
      "Logistic Regression vs Naive Bayes: p-value = 0.000\n",
      "The difference is statistically significant (cf 0.95 p-value=0.0000)\n",
      "\n",
      "\n",
      "Random Forests vs Naive Bayes: p-value = 0.000\n",
      "The difference is statistically significant (cf 0.95 p-value=0.0000)\n",
      "\n",
      "\n",
      "Random Forests vs KNN: p-value = 0.000\n",
      "The difference is statistically significant (cf 0.95 p-value=0.0000)\n"
     ]
    }
   ],
   "source": [
    "unpaired_lr_rf = stats.ttest_ind(simple_eval, rf_eval)\n",
    "print(\"Logistic Regression vs Random Forests: p-value = %4.3f\"%unpaired_lr_rf[1])\n",
    "PrintSignificance(unpaired_lr_rf, 0.95)\n",
    "print(\"\\n\")\n",
    "\n",
    "unpaired_lr_nb = stats.ttest_ind(simple_eval, nb_eval)\n",
    "print(\"Logistic Regression vs Naive Bayes: p-value = %4.3f\"%unpaired_lr_nb[1])\n",
    "PrintSignificance(unpaired_lr_nb, 0.95)\n",
    "print(\"\\n\")\n",
    "\n",
    "unpaired_rf_nb = stats.ttest_ind(rf_eval, nb_eval)\n",
    "print(\"Random Forests vs Naive Bayes: p-value = %4.3f\"%unpaired_rf_nb[1])\n",
    "PrintSignificance(unpaired_lr_nb, 0.95)\n",
    "print(\"\\n\")\n",
    "\n",
    "unpaired_rf_knn = stats.ttest_ind(rf_eval, knn_eval)\n",
    "print(\"Random Forests vs KNN: p-value = %4.3f\"%unpaired_rf_knn[1])\n",
    "PrintSignificance(unpaired_lr_nb, 0.95)"
   ]
  },
  {
   "cell_type": "markdown",
   "metadata": {},
   "source": [
    "Should we use the Bonferroni correction? If yes, how would you change your confidence level? We are using a 95% confidence level so $\\alpha$ is 0.05 (that is, 1-0.95). We are making three comparisons so the new $\\alpha$ should be 0.05/4"
   ]
  },
  {
   "cell_type": "markdown",
   "metadata": {},
   "source": [
    "Let's repeat the test using non-parametric tests like Mann-Whitney U Test"
   ]
  },
  {
   "cell_type": "code",
   "execution_count": 21,
   "metadata": {},
   "outputs": [
    {
     "name": "stdout",
     "output_type": "stream",
     "text": [
      "The difference is statistically significant (cf 0.95 p-value=0.0001)\n"
     ]
    }
   ],
   "source": [
    "non_par_rf_knn = stats.mannwhitneyu(simple_eval, rf_eval)\n",
    "PrintSignificance(non_par_rf_knn,0.95)"
   ]
  },
  {
   "cell_type": "markdown",
   "metadata": {},
   "source": [
    "Also the non parametric tests confirm the previous results."
   ]
  },
  {
   "cell_type": "markdown",
   "metadata": {},
   "source": [
    "## Comparing Two Models using Accuracy and Paired t-Test\n",
    "We compare k-nearest-neighbor and random forests using the same folds."
   ]
  },
  {
   "cell_type": "code",
   "execution_count": 24,
   "metadata": {
    "collapsed": false
   },
   "outputs": [
    {
     "name": "stdout",
     "output_type": "stream",
     "text": [
      "Logistic Regression 81.2\tRandom Forest 81.7\n",
      "Logistic Regression 81.1\tRandom Forest 81.6\n",
      "Logistic Regression 81.4\tRandom Forest 82.1\n",
      "Logistic Regression 81.4\tRandom Forest 82.0\n",
      "Logistic Regression 81.4\tRandom Forest 81.8\n",
      "Logistic Regression 81.3\tRandom Forest 81.6\n",
      "Logistic Regression 81.3\tRandom Forest 81.9\n",
      "Logistic Regression 81.2\tRandom Forest 81.9\n",
      "Logistic Regression 81.3\tRandom Forest 81.8\n",
      "Logistic Regression 81.4\tRandom Forest 82.0\n"
     ]
    }
   ],
   "source": [
    "# Generate the train/test indexes for the folds we are going to use\n",
    "tf = model_selection.StratifiedKFold(n_splits=10, random_state=1234, shuffle=True)\n",
    "\n",
    "lr_scores = []\n",
    "rf_scores = []\n",
    "\n",
    "for train, test in tf.split(X,y):\n",
    "    l = loans.loc[train]\n",
    "    train_x = l[features]\n",
    "    train_y = l[target]\n",
    "    \n",
    "    l_test = loans.loc[test]\n",
    "    test_x = l_test[features]\n",
    "    test_y = l_test[target]\n",
    "    \n",
    "    lr = linear_model.LogisticRegression(C=10e10, random_state=0)\n",
    "    lr = lr.fit(train_x, train_y)\n",
    "    acc_lr = accuracy_score(test_y, lr.predict(test_x))\n",
    "\n",
    "    rf = RandomForestClassifier(n_estimators=40, max_depth=None, min_samples_split=2, random_state=0)\n",
    "    rf = rf.fit(train_x, train_y)\n",
    "    acc_rf = accuracy_score(test_y, rf.predict(test_x))\n",
    "    \n",
    "    print(\"Logistic Regression %3.1f\\tRandom Forest %3.1f\"%(acc_lr*100.0,acc_rf*100.0))\n",
    "    \n",
    "    lr_scores.append(acc_lr) # = knn_scores + [acc_knn]\n",
    "    rf_scores.append(acc_rf)"
   ]
  },
  {
   "cell_type": "code",
   "execution_count": 29,
   "metadata": {},
   "outputs": [
    {
     "name": "stdout",
     "output_type": "stream",
     "text": [
      "Logistic Regression\t81.3\t0.1\n",
      "Random Forest      \t81.8\t0.2\n"
     ]
    }
   ],
   "source": [
    "print(\"Logistic Regression\\t%.1f\\t%.1f\" % (100.0*np.average(lr_scores), 100.0*np.std(lr_scores)))\n",
    "print(\"Random Forest      \\t%.1f\\t%.1f\" % (100.0*np.average(rf_scores), 100.0*np.std(rf_scores)))"
   ]
  },
  {
   "cell_type": "code",
   "execution_count": 33,
   "metadata": {
    "collapsed": false
   },
   "outputs": [
    {
     "name": "stdout",
     "output_type": "stream",
     "text": [
      "Logistic Regression vs Random Forests (Paired t-test)\n",
      "The difference is statistically significant (cf 0.95 p-value=0.0000)\n",
      "Logistic Regression vs Random Forests (Wilcoxon)\n",
      "The difference is statistically significant (cf 0.95 p-value=0.0051)\n"
     ]
    }
   ],
   "source": [
    "paired_test = stats.ttest_rel(lr_scores, rf_scores)\n",
    "print(\"Logistic Regression vs Random Forests (Paired t-test)\")\n",
    "PrintSignificance(paired_test, 0.95)\n",
    "\n",
    "wilcoxon_test = stats.wilcoxon(lr_scores, rf_scores)\n",
    "print(\"Logistic Regression vs Random Forests (Wilcoxon)\")\n",
    "PrintSignificance(wilcoxon_test, 0.95)"
   ]
  },
  {
   "cell_type": "markdown",
   "metadata": {},
   "source": [
    "## Comparing Two Models using F1 and Paired t-Test\n",
    "To perform the same comparisong using a custom evaluation function (e.g. F1) we need to substitute the lines\n",
    "\n",
    "    acc_lr = accuracy_score(test_y, lr.predict(test_x))\n",
    "    acc_rf = accuracy_score(test_y, rf.predict(test_x))\n",
    "\n",
    "With the custom evaluation like for instance, \n",
    "\n",
    "    f1_lr = f1_score(test_y, lr.predict(test_x))\n",
    "    f1_rf = f1_score(test_y, rf.predict(test_x))"
   ]
  },
  {
   "cell_type": "code",
   "execution_count": 41,
   "metadata": {
    "collapsed": false
   },
   "outputs": [
    {
     "name": "stdout",
     "output_type": "stream",
     "text": [
      "F1 Logistic Regression 89.6\tRandom Forest 89.7\n",
      "F1 Logistic Regression 89.6\tRandom Forest 89.5\n",
      "F1 Logistic Regression 89.6\tRandom Forest 89.8\n",
      "F1 Logistic Regression 89.6\tRandom Forest 89.7\n",
      "F1 Logistic Regression 89.6\tRandom Forest 89.7\n",
      "F1 Logistic Regression 89.6\tRandom Forest 89.6\n",
      "F1 Logistic Regression 89.6\tRandom Forest 89.7\n",
      "F1 Logistic Regression 89.6\tRandom Forest 89.7\n",
      "F1 Logistic Regression 89.6\tRandom Forest 89.6\n",
      "F1 Logistic Regression 89.7\tRandom Forest 89.8\n"
     ]
    }
   ],
   "source": [
    "# Generate the train/test indexes for the folds we are going to use\n",
    "tf = model_selection.StratifiedKFold(n_splits=10, random_state=1234, shuffle=True)\n",
    "\n",
    "lr_f1_scores = []\n",
    "rf_f1_scores = []\n",
    "\n",
    "for train, test in tf.split(X,y):\n",
    "    l = loans.loc[train]\n",
    "    train_x = l[features]\n",
    "    train_y = l[target]\n",
    "    \n",
    "    l_test = loans.loc[test]\n",
    "    test_x = l_test[features]\n",
    "    test_y = l_test[target]\n",
    "    \n",
    "    lr = linear_model.LogisticRegression(C=10e10, random_state=0)\n",
    "    lr = lr.fit(train_x, train_y)\n",
    "    f1_lr = f1_score(test_y, lr.predict(test_x))\n",
    "\n",
    "    rf = RandomForestClassifier(n_estimators=40, max_depth=None, min_samples_split=2, random_state=0)\n",
    "    rf = rf.fit(train_x, train_y)\n",
    "    f1_rf = f1_score(test_y, rf.predict(test_x))\n",
    "    \n",
    "    print(\"F1 Logistic Regression %3.1f\\tRandom Forest %3.1f\"%(f1_lr*100.0,f1_rf*100.0))\n",
    "    \n",
    "    lr_f1_scores.append(f1_lr) # = knn_scores + [acc_knn]\n",
    "    rf_f1_scores.append(f1_rf)"
   ]
  },
  {
   "cell_type": "code",
   "execution_count": 43,
   "metadata": {},
   "outputs": [
    {
     "name": "stdout",
     "output_type": "stream",
     "text": [
      "Logistic Regression F1\t89.6\t0.0\n",
      "Random Forest       F1\t89.7\t0.1\n"
     ]
    }
   ],
   "source": [
    "print(\"Logistic Regression F1\\t%.1f\\t%.1f\" % (100.0*np.average(lr_f1_scores), 100.0*np.std(lr_f1_scores)))\n",
    "print(\"Random Forest       F1\\t%.1f\\t%.1f\" % (100.0*np.average(rf_f1_scores), 100.0*np.std(rf_f1_scores)))"
   ]
  },
  {
   "cell_type": "code",
   "execution_count": 46,
   "metadata": {
    "collapsed": false
   },
   "outputs": [
    {
     "name": "stdout",
     "output_type": "stream",
     "text": [
      "Logistic Regression vs Random Forests (Paired t-test)\n",
      "The difference is statistically significant (cf 0.95 p-value=0.0114)\n",
      "Logistic Regression vs Random Forests (Wilcoxon)\n",
      "The difference is statistically significant (cf 0.95 p-value=0.0125)\n"
     ]
    }
   ],
   "source": [
    "paired_test = stats.ttest_rel(lr_f1_scores, rf_f1_scores)\n",
    "print(\"Logistic Regression vs Random Forests (Paired t-test)\")\n",
    "PrintSignificance(paired_test, 0.95)\n",
    "\n",
    "wilcoxon_test = stats.wilcoxon(lr_f1_scores, rf_f1_scores)\n",
    "print(\"Logistic Regression vs Random Forests (Wilcoxon)\")\n",
    "PrintSignificance(wilcoxon_test, 0.95)"
   ]
  },
  {
   "cell_type": "markdown",
   "metadata": {
    "deletable": true,
    "editable": true
   },
   "source": [
    "## Receiver Operating Characteristic (ROC) Curves\n",
    "We now plot the ROC curve for Logistic Regression and Naive Bayes"
   ]
  },
  {
   "cell_type": "code",
   "execution_count": 55,
   "metadata": {
    "collapsed": false,
    "deletable": true,
    "editable": true
   },
   "outputs": [],
   "source": [
    "train_x, test_x, train_y, test_y = model_selection.train_test_split(X, y, test_size=0.33, random_state=42)\n",
    "\n",
    "simple_logistic = linear_model.LogisticRegression(C=10e10, random_state=0)\n",
    "simple_eval = simple_logistic.fit(train_x, train_y)\n",
    "lr_pred = simple_logistic.predict(test_x);\n",
    "lr_acc = accuracy_score(y_true=test_y, y_pred=lr_pred)\n",
    "\n",
    "nb = naive_bayes.GaussianNB();\n",
    "nb_eval = nb.fit(train_x, train_y)\n",
    "nb_pred = nb.predict(test_x)\n",
    "nb_acc = accuracy_score(y_true=test_y, y_pred=nb_pred)\n",
    "\n",
    "rf = RandomForestClassifier(n_estimators=40, max_depth=None, min_samples_split=2, random_state=0)\n",
    "rf_eval = rf.fit(train_x, train_y)\n",
    "rf_pred = rf.predict(test_x)\n",
    "rf_acc = accuracy_score(y_true=test_y, y_pred=rf_pred)\n",
    "\n",
    "knn = neighbors.KNeighborsClassifier(20, weights='distance')\n",
    "knn_eval = knn.fit(train_x, train_y)\n",
    "knn_pred = knn.predict(test_x)\n",
    "knn_acc = accuracy_score(y_true=test_y, y_pred=knn_pred)"
   ]
  },
  {
   "cell_type": "code",
   "execution_count": 56,
   "metadata": {},
   "outputs": [
    {
     "name": "stdout",
     "output_type": "stream",
     "text": [
      "Logistic Regression\t81.1%\n",
      "Naive Bayes        \t77.6%\n",
      "Random Forest      \t81.8%\n",
      "KNN                \t80.2%\n"
     ]
    }
   ],
   "source": [
    "print(\"Logistic Regression\\t%.1f%%\" % (100.0*lr_acc))\n",
    "print(\"Naive Bayes        \\t%.1f%%\" % (100.0*nb_acc))\n",
    "print(\"Random Forest      \\t%.1f%%\" % (100.0*rf_acc))\n",
    "print(\"KNN                \\t%.1f%%\" % (100.0*knn_acc))"
   ]
  },
  {
   "cell_type": "code",
   "execution_count": 79,
   "metadata": {},
   "outputs": [
    {
     "data": {
      "image/png": "[encoded data removed]",
      "text/plain": [
       "<matplotlib.figure.Figure at 0x1a2a738c88>"
      ]
     },
     "metadata": {},
     "output_type": "display_data"
    }
   ],
   "source": [
    "lr_prob = simple_eval.predict_proba(test_x)\n",
    "nb_prob = nb_eval.predict_proba(test_x)\n",
    "rf_prob = rf_eval.predict_proba(test_x)\n",
    "knn_prob = knn_eval.predict_proba(test_x)\n",
    "\n",
    "fpr, tpr, thresholds = roc_curve(y_true=test_y, y_score = lr_prob[:,1], pos_label=1)\n",
    "fpr_nb, tpr_nb, thresholds_nb = roc_curve(y_true=test_y, y_score = nb_prob[:,1], pos_label=1)\n",
    "fpr_rf, tpr_rf, thresholds_rf = roc_curve(y_true=test_y, y_score = rf_prob[:,1], pos_label=1)\n",
    "fpr_knn, tpr_knn, thresholds_knn = roc_curve(y_true=test_y, y_score = knn_prob[:,1], pos_label=1)\n",
    "\n",
    "lr_roc_auc = roc_auc_score(y_true=test_y, y_score = lr_prob[:,1])\n",
    "nb_roc_auc = roc_auc_score(y_true=test_y, y_score = nb_prob[:,1])\n",
    "rf_roc_auc = roc_auc_score(y_true=test_y, y_score = rf_prob[:,1])\n",
    "knn_roc_auc = roc_auc_score(y_true=test_y, y_score = knn_prob[:,1])\n",
    "\n",
    "\n",
    "\n",
    "\n",
    "plt.figure(1, figsize=(8, 8));\n",
    "font = {'family':'sans', 'size':24};\n",
    "plt.rc('font', **font);\n",
    "plt.xlabel('FPR');\n",
    "plt.ylabel('TPR');\n",
    "plt.plot(fpr,tpr,label='Logistic Regression (%3.2f)'%lr_roc_auc)\n",
    "plt.plot(fpr_nb,tpr_nb,label='Naive Bayes (%3.2f)'%nb_roc_auc)\n",
    "plt.plot(fpr_rf,tpr_rf,label='Random Forest (%3.2f)'%rf_roc_auc)\n",
    "plt.plot(fpr_knn,tpr_knn,label='KNN (%3.2f)'%knn_roc_auc)\n",
    "plt.plot([0.0,1.0],[0.0,1.0],color='black',ls='--',lw=.5)\n",
    "plt.yticks(np.arange(0.0,1.01,.2))\n",
    "plt.legend()\n",
    "plt.legend(loc='upper center', bbox_to_anchor=(0.5, 1.3),\n",
    "           ncol=2, fancybox=True, shadow=True)\n",
    "plt.show();"
   ]
  },
  {
   "cell_type": "markdown",
   "metadata": {
    "deletable": true,
    "editable": true
   },
   "source": [
    "So while accuracy is quite different (almost four percentage points) the AUC for Logistic Regression and Naive Bayes is quite similar. This is not surprising as the two metrics measures different aspects of performance. The ROC curve shows that the two approaches behave similarly when it comes to TPR and FPR. Random forests perform better both as accuracy and AUC."
   ]
  }
 ],
 "metadata": {
  "kernelspec": {
   "display_name": "Python 3",
   "language": "python",
   "name": "python3"
  },
  "language_info": {
   "codemirror_mode": {
    "name": "ipython",
    "version": 3
   },
   "file_extension": ".py",
   "mimetype": "text/x-python",
   "name": "python",
   "nbconvert_exporter": "python",
   "pygments_lexer": "ipython3",
   "version": "3.6.4"
  }
 },
 "nbformat": 4,
 "nbformat_minor": 2
}
